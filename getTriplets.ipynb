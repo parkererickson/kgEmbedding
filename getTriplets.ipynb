{
 "metadata": {
  "language_info": {
   "codemirror_mode": {
    "name": "ipython",
    "version": 3
   },
   "file_extension": ".py",
   "mimetype": "text/x-python",
   "name": "python",
   "nbconvert_exporter": "python",
   "pygments_lexer": "ipython3",
   "version": "3.7.7-final"
  },
  "orig_nbformat": 2,
  "kernelspec": {
   "name": "python3",
   "display_name": "Python 3.7.7 64-bit ('tigergraph': conda)",
   "metadata": {
    "interpreter": {
     "hash": "9a0fd5262a0b70848205ec2a11e66b457fb5d870ca978032acf7eddd0d936a03"
    }
   }
  }
 },
 "nbformat": 4,
 "nbformat_minor": 2,
 "cells": [
  {
   "cell_type": "code",
   "execution_count": 1,
   "metadata": {},
   "outputs": [],
   "source": [
    "import pyTigerGraph as tg\n",
    "\n",
    "conn = tg.TigerGraphConnection(graphname=\"Synthea\", gsqlVersion=\"3.0.0\")"
   ]
  },
  {
   "cell_type": "code",
   "execution_count": 3,
   "metadata": {},
   "outputs": [
    {
     "output_type": "execute_result",
     "data": {
      "text/plain": [
       "'========================\\nTrying version: v3_0_0\\nConnecting to localhost:14240\\nWARNING: sun.reflect.Reflection.getCallerClass is not supported. This will impact performance.\\nIf there is any relative path, it is relative to <System.AppRoot>/dev/gdk/gsql\\nQuery getTriplets could not be found.\\nThe query getTriplets has been added!\\nStart installing queries, about 1 minute ...\\ngetTriplets query: curl -X GET \\'http://127.0.0.1:9000/query/Synthea/getTriplets\\'. Add -H \"Authorization: Bearer TOKEN\" if authentication is enabled.\\n\\n\\r[                                                                 ] 0% (0/1)   \\r[                                                                 ] 0% (0/1)   \\r[=====                                                            ] 7% (0/1)   \\r[==========                                                       ] 14% (0/1)  \\r[==============                                                   ] 21% (0/1)  \\r[===================                                              ] 29% (0/1)  \\r[========================                                         ] 36% (0/1)  \\r[============================                                     ] 43% (0/1)  \\r[==================================                               ] 51% (0/1)  \\r[======================================                           ] 58% (0/1)  \\r[===========================================                      ] 65% (0/1)  \\r[================================================                 ] 73% (0/1)  \\r[====================================================             ] 80% (0/1)  \\r[=========================================================        ] 87% (0/1)  \\r[==============================================================   ] 95% (0/1)  \\r[=================================================================] 100% (1/1) \\n'"
      ]
     },
     "metadata": {},
     "execution_count": 3
    }
   ],
   "source": [
    "conn.gsql('''\n",
    "          DROP QUERY getTriplets \n",
    "\n",
    "          CREATE QUERY getTriplets(/* Parameters here */) FOR GRAPH Synthea SYNTAX v2{ \n",
    "            TYPEDEF TUPLE <VERTEX src, EDGE edg, VERTEX dest> TUPLE_RECORD;\n",
    "            SetAccum<TUPLE_RECORD> @@triplets;\n",
    "            p = ANY;\n",
    "            res = SELECT tgt FROM p:s-(:e1)-:tgt WHERE s!= tgt\n",
    "                    ACCUM @@triplets += TUPLE_RECORD(s, e1, tgt);\n",
    "            PRINT @@triplets;\n",
    "          }\n",
    "            \n",
    "          INSTALL QUERY getTriplets\n",
    "          ''')"
   ]
  },
  {
   "cell_type": "code",
   "execution_count": 13,
   "metadata": {},
   "outputs": [],
   "source": [
    "res = conn.runInstalledQuery(\"getTriplets\", timeout=512000, sizeLimit=5.12e+8)"
   ]
  },
  {
   "cell_type": "code",
   "execution_count": 14,
   "metadata": {},
   "outputs": [],
   "source": [
    "import pandas as pd\n",
    "\n",
    "df = pd.DataFrame(res[0][\"@@triplets\"])"
   ]
  },
  {
   "cell_type": "code",
   "execution_count": 15,
   "metadata": {},
   "outputs": [
    {
     "output_type": "execute_result",
     "data": {
      "text/plain": [
       "                                    src  \\\n",
       "0  f8dc86a0-2d89-60b2-17c9-effc000b358f   \n",
       "1  a6922a64-3a22-37b2-a8ba-f1f45017573e   \n",
       "2  5bc2e490-0843-343f-a992-16a52b7ddc8a   \n",
       "3  ed1f3e5f-2034-386c-bc53-cc21649294ee   \n",
       "4  4535458f-a191-fb1b-7ddd-d1ea8c63ea41   \n",
       "\n",
       "                                                 edg  \\\n",
       "0  {'e_type': 'patientSeen', 'from_id': '34ce6eaf...   \n",
       "1  {'e_type': 'providerSeen', 'from_id': 'ac3c275...   \n",
       "2  {'e_type': 'providerSeen', 'from_id': '16a0dac...   \n",
       "3  {'e_type': 'providerSeen', 'from_id': '4cfbdb8...   \n",
       "4  {'e_type': 'patientVisit', 'from_id': '40d6fd0...   \n",
       "\n",
       "                                   dest  \n",
       "0  34ce6eaf-b4c0-87b8-0d5f-d52bd3106fc9  \n",
       "1  ac3c275f-5640-025c-5a8a-54c8ed5a8c86  \n",
       "2  16a0dacb-a362-50ad-90dc-8238810e4690  \n",
       "3  4cfbdb87-eabe-f0b3-cd6b-5ac93b17c60b  \n",
       "4  40d6fd08-f01d-5096-7a18-a35fed7b99c6  "
      ],
      "text/html": "<div>\n<style scoped>\n    .dataframe tbody tr th:only-of-type {\n        vertical-align: middle;\n    }\n\n    .dataframe tbody tr th {\n        vertical-align: top;\n    }\n\n    .dataframe thead th {\n        text-align: right;\n    }\n</style>\n<table border=\"1\" class=\"dataframe\">\n  <thead>\n    <tr style=\"text-align: right;\">\n      <th></th>\n      <th>src</th>\n      <th>edg</th>\n      <th>dest</th>\n    </tr>\n  </thead>\n  <tbody>\n    <tr>\n      <th>0</th>\n      <td>f8dc86a0-2d89-60b2-17c9-effc000b358f</td>\n      <td>{'e_type': 'patientSeen', 'from_id': '34ce6eaf...</td>\n      <td>34ce6eaf-b4c0-87b8-0d5f-d52bd3106fc9</td>\n    </tr>\n    <tr>\n      <th>1</th>\n      <td>a6922a64-3a22-37b2-a8ba-f1f45017573e</td>\n      <td>{'e_type': 'providerSeen', 'from_id': 'ac3c275...</td>\n      <td>ac3c275f-5640-025c-5a8a-54c8ed5a8c86</td>\n    </tr>\n    <tr>\n      <th>2</th>\n      <td>5bc2e490-0843-343f-a992-16a52b7ddc8a</td>\n      <td>{'e_type': 'providerSeen', 'from_id': '16a0dac...</td>\n      <td>16a0dacb-a362-50ad-90dc-8238810e4690</td>\n    </tr>\n    <tr>\n      <th>3</th>\n      <td>ed1f3e5f-2034-386c-bc53-cc21649294ee</td>\n      <td>{'e_type': 'providerSeen', 'from_id': '4cfbdb8...</td>\n      <td>4cfbdb87-eabe-f0b3-cd6b-5ac93b17c60b</td>\n    </tr>\n    <tr>\n      <th>4</th>\n      <td>4535458f-a191-fb1b-7ddd-d1ea8c63ea41</td>\n      <td>{'e_type': 'patientVisit', 'from_id': '40d6fd0...</td>\n      <td>40d6fd08-f01d-5096-7a18-a35fed7b99c6</td>\n    </tr>\n  </tbody>\n</table>\n</div>"
     },
     "metadata": {},
     "execution_count": 15
    }
   ],
   "source": [
    "df.head()"
   ]
  },
  {
   "cell_type": "code",
   "execution_count": 16,
   "metadata": {},
   "outputs": [
    {
     "output_type": "execute_result",
     "data": {
      "text/plain": [
       "                                    src                                  dest  \\\n",
       "0  f8dc86a0-2d89-60b2-17c9-effc000b358f  34ce6eaf-b4c0-87b8-0d5f-d52bd3106fc9   \n",
       "1  a6922a64-3a22-37b2-a8ba-f1f45017573e  ac3c275f-5640-025c-5a8a-54c8ed5a8c86   \n",
       "2  5bc2e490-0843-343f-a992-16a52b7ddc8a  16a0dacb-a362-50ad-90dc-8238810e4690   \n",
       "3  ed1f3e5f-2034-386c-bc53-cc21649294ee  4cfbdb87-eabe-f0b3-cd6b-5ac93b17c60b   \n",
       "4  4535458f-a191-fb1b-7ddd-d1ea8c63ea41  40d6fd08-f01d-5096-7a18-a35fed7b99c6   \n",
       "\n",
       "         e_type                               from_id from_type  \\\n",
       "0   patientSeen  34ce6eaf-b4c0-87b8-0d5f-d52bd3106fc9     Visit   \n",
       "1  providerSeen  ac3c275f-5640-025c-5a8a-54c8ed5a8c86     Visit   \n",
       "2  providerSeen  16a0dacb-a362-50ad-90dc-8238810e4690     Visit   \n",
       "3  providerSeen  4cfbdb87-eabe-f0b3-cd6b-5ac93b17c60b     Visit   \n",
       "4  patientVisit  40d6fd08-f01d-5096-7a18-a35fed7b99c6   Patient   \n",
       "\n",
       "                                  to_id   to_type  directed attributes  \n",
       "0  f8dc86a0-2d89-60b2-17c9-effc000b358f   Patient      True         {}  \n",
       "1  a6922a64-3a22-37b2-a8ba-f1f45017573e  Provider      True         {}  \n",
       "2  5bc2e490-0843-343f-a992-16a52b7ddc8a  Provider      True         {}  \n",
       "3  ed1f3e5f-2034-386c-bc53-cc21649294ee  Provider      True         {}  \n",
       "4  4535458f-a191-fb1b-7ddd-d1ea8c63ea41     Visit      True         {}  "
      ],
      "text/html": "<div>\n<style scoped>\n    .dataframe tbody tr th:only-of-type {\n        vertical-align: middle;\n    }\n\n    .dataframe tbody tr th {\n        vertical-align: top;\n    }\n\n    .dataframe thead th {\n        text-align: right;\n    }\n</style>\n<table border=\"1\" class=\"dataframe\">\n  <thead>\n    <tr style=\"text-align: right;\">\n      <th></th>\n      <th>src</th>\n      <th>dest</th>\n      <th>e_type</th>\n      <th>from_id</th>\n      <th>from_type</th>\n      <th>to_id</th>\n      <th>to_type</th>\n      <th>directed</th>\n      <th>attributes</th>\n    </tr>\n  </thead>\n  <tbody>\n    <tr>\n      <th>0</th>\n      <td>f8dc86a0-2d89-60b2-17c9-effc000b358f</td>\n      <td>34ce6eaf-b4c0-87b8-0d5f-d52bd3106fc9</td>\n      <td>patientSeen</td>\n      <td>34ce6eaf-b4c0-87b8-0d5f-d52bd3106fc9</td>\n      <td>Visit</td>\n      <td>f8dc86a0-2d89-60b2-17c9-effc000b358f</td>\n      <td>Patient</td>\n      <td>True</td>\n      <td>{}</td>\n    </tr>\n    <tr>\n      <th>1</th>\n      <td>a6922a64-3a22-37b2-a8ba-f1f45017573e</td>\n      <td>ac3c275f-5640-025c-5a8a-54c8ed5a8c86</td>\n      <td>providerSeen</td>\n      <td>ac3c275f-5640-025c-5a8a-54c8ed5a8c86</td>\n      <td>Visit</td>\n      <td>a6922a64-3a22-37b2-a8ba-f1f45017573e</td>\n      <td>Provider</td>\n      <td>True</td>\n      <td>{}</td>\n    </tr>\n    <tr>\n      <th>2</th>\n      <td>5bc2e490-0843-343f-a992-16a52b7ddc8a</td>\n      <td>16a0dacb-a362-50ad-90dc-8238810e4690</td>\n      <td>providerSeen</td>\n      <td>16a0dacb-a362-50ad-90dc-8238810e4690</td>\n      <td>Visit</td>\n      <td>5bc2e490-0843-343f-a992-16a52b7ddc8a</td>\n      <td>Provider</td>\n      <td>True</td>\n      <td>{}</td>\n    </tr>\n    <tr>\n      <th>3</th>\n      <td>ed1f3e5f-2034-386c-bc53-cc21649294ee</td>\n      <td>4cfbdb87-eabe-f0b3-cd6b-5ac93b17c60b</td>\n      <td>providerSeen</td>\n      <td>4cfbdb87-eabe-f0b3-cd6b-5ac93b17c60b</td>\n      <td>Visit</td>\n      <td>ed1f3e5f-2034-386c-bc53-cc21649294ee</td>\n      <td>Provider</td>\n      <td>True</td>\n      <td>{}</td>\n    </tr>\n    <tr>\n      <th>4</th>\n      <td>4535458f-a191-fb1b-7ddd-d1ea8c63ea41</td>\n      <td>40d6fd08-f01d-5096-7a18-a35fed7b99c6</td>\n      <td>patientVisit</td>\n      <td>40d6fd08-f01d-5096-7a18-a35fed7b99c6</td>\n      <td>Patient</td>\n      <td>4535458f-a191-fb1b-7ddd-d1ea8c63ea41</td>\n      <td>Visit</td>\n      <td>True</td>\n      <td>{}</td>\n    </tr>\n  </tbody>\n</table>\n</div>"
     },
     "metadata": {},
     "execution_count": 16
    }
   ],
   "source": [
    "df = pd.concat([df.drop(['edg'], axis=1), df['edg'].apply(pd.Series)], axis=1)\n",
    "df.head()"
   ]
  },
  {
   "cell_type": "code",
   "execution_count": 17,
   "metadata": {},
   "outputs": [
    {
     "output_type": "execute_result",
     "data": {
      "text/plain": [
       "(6182004, 9)"
      ]
     },
     "metadata": {},
     "execution_count": 17
    }
   ],
   "source": [
    "df.shape"
   ]
  },
  {
   "cell_type": "code",
   "execution_count": 18,
   "metadata": {},
   "outputs": [],
   "source": [
    "entities = pd.DataFrame({\"entity\":df[\"from_id\"].append(df[\"to_id\"]), \"type\":df[\"from_type\"].append(df[\"to_type\"])})\n",
    "entities = entities.drop_duplicates([\"entity\", \"type\"])"
   ]
  },
  {
   "cell_type": "code",
   "execution_count": 19,
   "metadata": {},
   "outputs": [
    {
     "output_type": "execute_result",
     "data": {
      "text/plain": [
       "                                 entity     type\n",
       "0  34ce6eaf-b4c0-87b8-0d5f-d52bd3106fc9    Visit\n",
       "1  ac3c275f-5640-025c-5a8a-54c8ed5a8c86    Visit\n",
       "2  16a0dacb-a362-50ad-90dc-8238810e4690    Visit\n",
       "3  4cfbdb87-eabe-f0b3-cd6b-5ac93b17c60b    Visit\n",
       "4  40d6fd08-f01d-5096-7a18-a35fed7b99c6  Patient"
      ],
      "text/html": "<div>\n<style scoped>\n    .dataframe tbody tr th:only-of-type {\n        vertical-align: middle;\n    }\n\n    .dataframe tbody tr th {\n        vertical-align: top;\n    }\n\n    .dataframe thead th {\n        text-align: right;\n    }\n</style>\n<table border=\"1\" class=\"dataframe\">\n  <thead>\n    <tr style=\"text-align: right;\">\n      <th></th>\n      <th>entity</th>\n      <th>type</th>\n    </tr>\n  </thead>\n  <tbody>\n    <tr>\n      <th>0</th>\n      <td>34ce6eaf-b4c0-87b8-0d5f-d52bd3106fc9</td>\n      <td>Visit</td>\n    </tr>\n    <tr>\n      <th>1</th>\n      <td>ac3c275f-5640-025c-5a8a-54c8ed5a8c86</td>\n      <td>Visit</td>\n    </tr>\n    <tr>\n      <th>2</th>\n      <td>16a0dacb-a362-50ad-90dc-8238810e4690</td>\n      <td>Visit</td>\n    </tr>\n    <tr>\n      <th>3</th>\n      <td>4cfbdb87-eabe-f0b3-cd6b-5ac93b17c60b</td>\n      <td>Visit</td>\n    </tr>\n    <tr>\n      <th>4</th>\n      <td>40d6fd08-f01d-5096-7a18-a35fed7b99c6</td>\n      <td>Patient</td>\n    </tr>\n  </tbody>\n</table>\n</div>"
     },
     "metadata": {},
     "execution_count": 19
    }
   ],
   "source": [
    "entities.head()"
   ]
  },
  {
   "cell_type": "code",
   "execution_count": 20,
   "metadata": {},
   "outputs": [
    {
     "output_type": "execute_result",
     "data": {
      "text/plain": [
       "(475408, 2)"
      ]
     },
     "metadata": {},
     "execution_count": 20
    }
   ],
   "source": [
    "entities.shape"
   ]
  },
  {
   "cell_type": "code",
   "execution_count": 21,
   "metadata": {},
   "outputs": [],
   "source": [
    "hrt = df[[\"src\", \"e_type\", \"dest\"]]"
   ]
  },
  {
   "cell_type": "code",
   "execution_count": 22,
   "metadata": {},
   "outputs": [],
   "source": [
    "hrt.to_csv(\"./data/train.tsv\", index=False, header=False, sep=\"\\t\")"
   ]
  },
  {
   "cell_type": "code",
   "execution_count": 23,
   "metadata": {
    "tags": [
     "outputPrepend"
    ]
   },
   "outputs": [
    {
     "output_type": "stream",
     "name": "stdout",
     "text": [
      "9000/80000) average regularization: 0.0318770556524396\n",
      "[proc 0][Train] 1000 steps take 36.885 seconds\n",
      "[proc 0]sample: 3.397, forward: 21.049, backward: 8.645, update: 3.785\n",
      "[proc 0][Train](30000/80000) average pos_loss: 0.25229762417078017\n",
      "[proc 0][Train](30000/80000) average neg_loss: 0.5177760181427002\n",
      "[proc 0][Train](30000/80000) average loss: 0.38503682121634486\n",
      "[proc 0][Train](30000/80000) average regularization: 0.031759304972365496\n",
      "[proc 0][Train] 1000 steps take 37.392 seconds\n",
      "[proc 0]sample: 3.411, forward: 21.486, backward: 8.644, update: 3.842\n",
      "[proc 0][Train](31000/80000) average pos_loss: 0.2528031569421291\n",
      "[proc 0][Train](31000/80000) average neg_loss: 0.5138676720261574\n",
      "[proc 0][Train](31000/80000) average loss: 0.38333541506528857\n",
      "[proc 0][Train](31000/80000) average regularization: 0.031725066980347036\n",
      "[proc 0][Train] 1000 steps take 37.311 seconds\n",
      "[proc 0]sample: 3.465, forward: 21.344, backward: 8.666, update: 3.826\n",
      "[proc 0][Train](32000/80000) average pos_loss: 0.2530566761046648\n",
      "[proc 0][Train](32000/80000) average neg_loss: 0.511604443013668\n",
      "[proc 0][Train](32000/80000) average loss: 0.3823305602669716\n",
      "[proc 0][Train](32000/80000) average regularization: 0.03163774014264345\n",
      "[proc 0][Train] 1000 steps take 37.747 seconds\n",
      "[proc 0]sample: 3.465, forward: 21.620, backward: 8.796, update: 3.857\n",
      "[proc 0][Train](33000/80000) average pos_loss: 0.2537241549491882\n",
      "[proc 0][Train](33000/80000) average neg_loss: 0.5091940073370933\n",
      "[proc 0][Train](33000/80000) average loss: 0.38145908096432685\n",
      "[proc 0][Train](33000/80000) average regularization: 0.03159384011849761\n",
      "[proc 0][Train] 1000 steps take 37.339 seconds\n",
      "[proc 0]sample: 3.424, forward: 21.396, backward: 8.712, update: 3.799\n",
      "[proc 0][Train](34000/80000) average pos_loss: 0.25435631869733333\n",
      "[proc 0][Train](34000/80000) average neg_loss: 0.5074067606925964\n",
      "[proc 0][Train](34000/80000) average loss: 0.3808815396428108\n",
      "[proc 0][Train](34000/80000) average regularization: 0.03145234837196767\n",
      "[proc 0][Train] 1000 steps take 36.579 seconds\n",
      "[proc 0]sample: 3.354, forward: 21.070, backward: 8.439, update: 3.707\n",
      "[proc 0][Train](35000/80000) average pos_loss: 0.254682643905282\n",
      "[proc 0][Train](35000/80000) average neg_loss: 0.5043255877494812\n",
      "[proc 0][Train](35000/80000) average loss: 0.3795041157901287\n",
      "[proc 0][Train](35000/80000) average regularization: 0.031484908802434805\n",
      "[proc 0][Train] 1000 steps take 36.798 seconds\n",
      "[proc 0]sample: 3.413, forward: 21.026, backward: 8.620, update: 3.730\n",
      "[proc 0][Train](36000/80000) average pos_loss: 0.25509455378353596\n",
      "[proc 0][Train](36000/80000) average neg_loss: 0.5025571965277195\n",
      "[proc 0][Train](36000/80000) average loss: 0.37882587519288063\n",
      "[proc 0][Train](36000/80000) average regularization: 0.03141366237401962\n",
      "[proc 0][Train] 1000 steps take 37.666 seconds\n",
      "[proc 0]sample: 3.473, forward: 21.581, backward: 8.766, update: 3.837\n",
      "[proc 0][Train](37000/80000) average pos_loss: 0.2536117539554834\n",
      "[proc 0][Train](37000/80000) average neg_loss: 0.49968963068723676\n",
      "[proc 0][Train](37000/80000) average loss: 0.37665069207549096\n",
      "[proc 0][Train](37000/80000) average regularization: 0.03139824307896197\n",
      "[proc 0][Train] 1000 steps take 37.638 seconds\n",
      "[proc 0]sample: 4.443, forward: 20.906, backward: 8.561, update: 3.719\n",
      "[proc 0][Train](38000/80000) average pos_loss: 0.2534435189515352\n",
      "[proc 0][Train](38000/80000) average neg_loss: 0.49891133749485017\n",
      "[proc 0][Train](38000/80000) average loss: 0.37617742857337\n",
      "[proc 0][Train](38000/80000) average regularization: 0.03133500470221043\n",
      "[proc 0][Train] 1000 steps take 37.911 seconds\n",
      "[proc 0]sample: 3.475, forward: 21.774, backward: 8.793, update: 3.860\n",
      "[proc 0][Train](39000/80000) average pos_loss: 0.25377391707897184\n",
      "[proc 0][Train](39000/80000) average neg_loss: 0.4970779203772545\n",
      "[proc 0][Train](39000/80000) average loss: 0.3754259177446365\n",
      "[proc 0][Train](39000/80000) average regularization: 0.03128459254838526\n",
      "[proc 0][Train] 1000 steps take 37.121 seconds\n",
      "[proc 0]sample: 3.293, forward: 21.399, backward: 8.625, update: 3.795\n",
      "[proc 0][Train](40000/80000) average pos_loss: 0.2542616663426161\n",
      "[proc 0][Train](40000/80000) average neg_loss: 0.4950021107494831\n",
      "[proc 0][Train](40000/80000) average loss: 0.3746318886578083\n",
      "[proc 0][Train](40000/80000) average regularization: 0.03126908054575324\n",
      "[proc 0][Train] 1000 steps take 36.726 seconds\n",
      "[proc 0]sample: 3.325, forward: 21.234, backward: 8.434, update: 3.724\n",
      "[proc 0][Train](41000/80000) average pos_loss: 0.254133083358407\n",
      "[proc 0][Train](41000/80000) average neg_loss: 0.4936587293446064\n",
      "[proc 0][Train](41000/80000) average loss: 0.37389590668678285\n",
      "[proc 0][Train](41000/80000) average regularization: 0.031261386523023245\n",
      "[proc 0][Train] 1000 steps take 36.983 seconds\n",
      "[proc 0]sample: 3.323, forward: 21.340, backward: 8.545, update: 3.765\n",
      "[proc 0][Train](42000/80000) average pos_loss: 0.2541196751445532\n",
      "[proc 0][Train](42000/80000) average neg_loss: 0.49247561845183374\n",
      "[proc 0][Train](42000/80000) average loss: 0.3732976461052895\n",
      "[proc 0][Train](42000/80000) average regularization: 0.03121386187709868\n",
      "[proc 0][Train] 1000 steps take 37.501 seconds\n",
      "[proc 0]sample: 3.414, forward: 21.755, backward: 8.507, update: 3.815\n",
      "[proc 0][Train](43000/80000) average pos_loss: 0.25468467085063456\n",
      "[proc 0][Train](43000/80000) average neg_loss: 0.490726186722517\n",
      "[proc 0][Train](43000/80000) average loss: 0.3727054292559624\n",
      "[proc 0][Train](43000/80000) average regularization: 0.031209267780184746\n",
      "[proc 0][Train] 1000 steps take 36.578 seconds\n",
      "[proc 0]sample: 3.283, forward: 21.176, backward: 8.392, update: 3.719\n",
      "[proc 0][Train](44000/80000) average pos_loss: 0.2552621667087078\n",
      "[proc 0][Train](44000/80000) average neg_loss: 0.49019839558005335\n",
      "[proc 0][Train](44000/80000) average loss: 0.37273028048872947\n",
      "[proc 0][Train](44000/80000) average regularization: 0.031148959930986167\n",
      "[proc 0][Train] 1000 steps take 36.742 seconds\n",
      "[proc 0]sample: 3.346, forward: 21.286, backward: 8.376, update: 3.724\n",
      "[proc 0][Train](45000/80000) average pos_loss: 0.25497877299785615\n",
      "[proc 0][Train](45000/80000) average neg_loss: 0.48823298227787015\n",
      "[proc 0][Train](45000/80000) average loss: 0.37160587733983996\n",
      "[proc 0][Train](45000/80000) average regularization: 0.031216201392933726\n",
      "[proc 0][Train] 1000 steps take 37.330 seconds\n",
      "[proc 0]sample: 3.382, forward: 21.704, backward: 8.492, update: 3.743\n",
      "[proc 0][Train](46000/80000) average pos_loss: 0.2552019931823015\n",
      "[proc 0][Train](46000/80000) average neg_loss: 0.48725752034783365\n",
      "[proc 0][Train](46000/80000) average loss: 0.3712297573685646\n",
      "[proc 0][Train](46000/80000) average regularization: 0.03116066101938486\n",
      "[proc 0][Train] 1000 steps take 35.955 seconds\n",
      "[proc 0]sample: 3.299, forward: 20.707, backward: 8.309, update: 3.631\n",
      "[proc 0][Train](47000/80000) average pos_loss: 0.25516017535328867\n",
      "[proc 0][Train](47000/80000) average neg_loss: 0.4854226283729076\n",
      "[proc 0][Train](47000/80000) average loss: 0.3702914020419121\n",
      "[proc 0][Train](47000/80000) average regularization: 0.03121676015108824\n",
      "[proc 0][Train] 1000 steps take 36.962 seconds\n",
      "[proc 0]sample: 3.347, forward: 21.331, backward: 8.513, update: 3.763\n",
      "[proc 0][Train](48000/80000) average pos_loss: 0.2552237096875906\n",
      "[proc 0][Train](48000/80000) average neg_loss: 0.48445185524225237\n",
      "[proc 0][Train](48000/80000) average loss: 0.36983778250217436\n",
      "[proc 0][Train](48000/80000) average regularization: 0.03122398347966373\n",
      "[proc 0][Train] 1000 steps take 36.702 seconds\n",
      "[proc 0]sample: 3.378, forward: 21.114, backward: 8.461, update: 3.740\n",
      "[proc 0][Train](49000/80000) average pos_loss: 0.2536795810014009\n",
      "[proc 0][Train](49000/80000) average neg_loss: 0.4829367074072361\n",
      "[proc 0][Train](49000/80000) average loss: 0.36830814415216445\n",
      "[proc 0][Train](49000/80000) average regularization: 0.03130479364283383\n",
      "[proc 0][Train] 1000 steps take 38.118 seconds\n",
      "[proc 0]sample: 4.401, forward: 21.338, backward: 8.593, update: 3.778\n",
      "[proc 0][Train](50000/80000) average pos_loss: 0.25257324819266797\n",
      "[proc 0][Train](50000/80000) average neg_loss: 0.4815203248858452\n",
      "[proc 0][Train](50000/80000) average loss: 0.3670467859506607\n",
      "[proc 0][Train](50000/80000) average regularization: 0.03147373327612877\n",
      "[proc 0][Train] 1000 steps take 37.301 seconds\n",
      "[proc 0]sample: 3.417, forward: 21.495, backward: 8.593, update: 3.788\n",
      "[proc 0][Train](51000/80000) average pos_loss: 0.25295082631707194\n",
      "[proc 0][Train](51000/80000) average neg_loss: 0.4806493826508522\n",
      "[proc 0][Train](51000/80000) average loss: 0.3668001047372818\n",
      "[proc 0][Train](51000/80000) average regularization: 0.03152711318060756\n",
      "[proc 0][Train] 1000 steps take 37.365 seconds\n",
      "[proc 0]sample: 3.434, forward: 21.487, backward: 8.634, update: 3.801\n",
      "[proc 0][Train](52000/80000) average pos_loss: 0.25278681312501433\n",
      "[proc 0][Train](52000/80000) average neg_loss: 0.4783535605370998\n",
      "[proc 0][Train](52000/80000) average loss: 0.36557018691301346\n",
      "[proc 0][Train](52000/80000) average regularization: 0.03159313561394811\n",
      "[proc 0][Train] 1000 steps take 36.696 seconds\n",
      "[proc 0]sample: 3.370, forward: 21.093, backward: 8.504, update: 3.719\n",
      "[proc 0][Train](53000/80000) average pos_loss: 0.25298846411705017\n",
      "[proc 0][Train](53000/80000) average neg_loss: 0.4775815559029579\n",
      "[proc 0][Train](53000/80000) average loss: 0.36528501012921333\n",
      "[proc 0][Train](53000/80000) average regularization: 0.031624692494049665\n",
      "[proc 0][Train] 1000 steps take 37.385 seconds\n",
      "[proc 0]sample: 3.446, forward: 21.589, backward: 8.543, update: 3.797\n",
      "[proc 0][Train](54000/80000) average pos_loss: 0.2534022444188595\n",
      "[proc 0][Train](54000/80000) average neg_loss: 0.47573956128954886\n",
      "[proc 0][Train](54000/80000) average loss: 0.3645709029734135\n",
      "[proc 0][Train](54000/80000) average regularization: 0.031720323387533424\n",
      "[proc 0][Train] 1000 steps take 37.756 seconds\n",
      "[proc 0]sample: 3.461, forward: 21.707, backward: 8.753, update: 3.826\n",
      "[proc 0][Train](55000/80000) average pos_loss: 0.25361822193861006\n",
      "[proc 0][Train](55000/80000) average neg_loss: 0.4745606085062027\n",
      "[proc 0][Train](55000/80000) average loss: 0.3640894151329994\n",
      "[proc 0][Train](55000/80000) average regularization: 0.03179175500571728\n",
      "[proc 0][Train] 1000 steps take 37.513 seconds\n",
      "[proc 0]sample: 3.441, forward: 21.566, backward: 8.687, update: 3.810\n",
      "[proc 0][Train](56000/80000) average pos_loss: 0.2537594404965639\n",
      "[proc 0][Train](56000/80000) average neg_loss: 0.47316423240303995\n",
      "[proc 0][Train](56000/80000) average loss: 0.36346183660626413\n",
      "[proc 0][Train](56000/80000) average regularization: 0.031875939127057794\n",
      "[proc 0][Train] 1000 steps take 37.379 seconds\n",
      "[proc 0]sample: 3.430, forward: 21.424, backward: 8.702, update: 3.815\n",
      "[proc 0][Train](57000/80000) average pos_loss: 0.2541465186178684\n",
      "[proc 0][Train](57000/80000) average neg_loss: 0.47200960806012154\n",
      "[proc 0][Train](57000/80000) average loss: 0.3630780636966228\n",
      "[proc 0][Train](57000/80000) average regularization: 0.03199167219735682\n",
      "[proc 0][Train] 1000 steps take 36.890 seconds\n",
      "[proc 0]sample: 3.351, forward: 21.202, backward: 8.580, update: 3.747\n",
      "[proc 0][Train](58000/80000) average pos_loss: 0.25465177042782305\n",
      "[proc 0][Train](58000/80000) average neg_loss: 0.47068116545677186\n",
      "[proc 0][Train](58000/80000) average loss: 0.3626664686501026\n",
      "[proc 0][Train](58000/80000) average regularization: 0.03208975808694959\n",
      "[proc 0][Train] 1000 steps take 37.387 seconds\n",
      "[proc 0]sample: 3.405, forward: 21.526, backward: 8.654, update: 3.792\n",
      "[proc 0][Train](59000/80000) average pos_loss: 0.2543036293685436\n",
      "[proc 0][Train](59000/80000) average neg_loss: 0.46831891164183614\n",
      "[proc 0][Train](59000/80000) average loss: 0.36131127083301545\n",
      "[proc 0][Train](59000/80000) average regularization: 0.03227456008642912\n",
      "[proc 0][Train] 1000 steps take 37.267 seconds\n",
      "[proc 0]sample: 3.394, forward: 21.453, backward: 8.624, update: 3.788\n",
      "[proc 0][Train](60000/80000) average pos_loss: 0.2542254027575254\n",
      "[proc 0][Train](60000/80000) average neg_loss: 0.4677609990239143\n",
      "[proc 0][Train](60000/80000) average loss: 0.3609932013750076\n",
      "[proc 0][Train](60000/80000) average regularization: 0.03235610455274582\n",
      "[proc 0][Train] 1000 steps take 38.314 seconds\n",
      "[proc 0]sample: 3.474, forward: 22.011, backward: 8.914, update: 3.906\n",
      "[proc 0][Train](61000/80000) average pos_loss: 0.2516587442755699\n",
      "[proc 0][Train](61000/80000) average neg_loss: 0.4654547766745091\n",
      "[proc 0][Train](61000/80000) average loss: 0.35855676090717314\n",
      "[proc 0][Train](61000/80000) average regularization: 0.032668856900185346\n",
      "[proc 0][Train] 1000 steps take 38.230 seconds\n",
      "[proc 0]sample: 4.466, forward: 21.320, backward: 8.637, update: 3.798\n",
      "[proc 0][Train](62000/80000) average pos_loss: 0.25000137796998023\n",
      "[proc 0][Train](62000/80000) average neg_loss: 0.4650800552666187\n",
      "[proc 0][Train](62000/80000) average loss: 0.35754071626067163\n",
      "[proc 0][Train](62000/80000) average regularization: 0.03301789430528879\n",
      "[proc 0][Train] 1000 steps take 38.027 seconds\n",
      "[proc 0]sample: 3.422, forward: 21.864, backward: 8.825, update: 3.907\n",
      "[proc 0][Train](63000/80000) average pos_loss: 0.250820116430521\n",
      "[proc 0][Train](63000/80000) average neg_loss: 0.46325074729323384\n",
      "[proc 0][Train](63000/80000) average loss: 0.3570354312956333\n",
      "[proc 0][Train](63000/80000) average regularization: 0.03315251375734806\n",
      "[proc 0][Train] 1000 steps take 36.828 seconds\n",
      "[proc 0]sample: 3.405, forward: 21.136, backward: 8.528, update: 3.750\n",
      "[proc 0][Train](64000/80000) average pos_loss: 0.2512553675323725\n",
      "[proc 0][Train](64000/80000) average neg_loss: 0.4616184474825859\n",
      "[proc 0][Train](64000/80000) average loss: 0.35643690738081935\n",
      "[proc 0][Train](64000/80000) average regularization: 0.03332409868389368\n",
      "[proc 0][Train] 1000 steps take 37.497 seconds\n",
      "[proc 0]sample: 3.386, forward: 21.590, backward: 8.691, update: 3.821\n",
      "[proc 0][Train](65000/80000) average pos_loss: 0.25169713324308396\n",
      "[proc 0][Train](65000/80000) average neg_loss: 0.4592752828001976\n",
      "[proc 0][Train](65000/80000) average loss: 0.35548620828986166\n",
      "[proc 0][Train](65000/80000) average regularization: 0.033552485559135675\n",
      "[proc 0][Train] 1000 steps take 37.410 seconds\n",
      "[proc 0]sample: 3.448, forward: 21.411, backward: 8.720, update: 3.821\n",
      "[proc 0][Train](66000/80000) average pos_loss: 0.25169224992394446\n",
      "[proc 0][Train](66000/80000) average neg_loss: 0.4573691251277924\n",
      "[proc 0][Train](66000/80000) average loss: 0.35453068765997886\n",
      "[proc 0][Train](66000/80000) average regularization: 0.03375514271110296\n",
      "[proc 0][Train] 1000 steps take 37.792 seconds\n",
      "[proc 0]sample: 3.435, forward: 21.714, backward: 8.776, update: 3.857\n",
      "[proc 0][Train](67000/80000) average pos_loss: 0.2522446574866772\n",
      "[proc 0][Train](67000/80000) average neg_loss: 0.45559190702438357\n",
      "[proc 0][Train](67000/80000) average loss: 0.35391828179359436\n",
      "[proc 0][Train](67000/80000) average regularization: 0.033991362240165475\n",
      "[proc 0][Train] 1000 steps take 37.455 seconds\n",
      "[proc 0]sample: 3.420, forward: 21.549, backward: 8.660, update: 3.817\n",
      "[proc 0][Train](68000/80000) average pos_loss: 0.25206563451886177\n",
      "[proc 0][Train](68000/80000) average neg_loss: 0.4542195449471474\n",
      "[proc 0][Train](68000/80000) average loss: 0.35314258962869643\n",
      "[proc 0][Train](68000/80000) average regularization: 0.034183896295726296\n",
      "[proc 0][Train] 1000 steps take 37.642 seconds\n",
      "[proc 0]sample: 3.391, forward: 21.553, backward: 8.835, update: 3.855\n",
      "[proc 0][Train](69000/80000) average pos_loss: 0.25264795683324337\n",
      "[proc 0][Train](69000/80000) average neg_loss: 0.453432829707861\n",
      "[proc 0][Train](69000/80000) average loss: 0.35304039320349695\n",
      "[proc 0][Train](69000/80000) average regularization: 0.034357942961156365\n",
      "[proc 0][Train] 1000 steps take 37.523 seconds\n",
      "[proc 0]sample: 3.385, forward: 21.559, backward: 8.734, update: 3.836\n",
      "[proc 0][Train](70000/80000) average pos_loss: 0.25231609159708024\n",
      "[proc 0][Train](70000/80000) average neg_loss: 0.4511960072815418\n",
      "[proc 0][Train](70000/80000) average loss: 0.35175604942440986\n",
      "[proc 0][Train](70000/80000) average regularization: 0.034625233009457586\n",
      "[proc 0][Train] 1000 steps take 36.843 seconds\n",
      "[proc 0]sample: 3.319, forward: 21.149, backward: 8.612, update: 3.755\n",
      "[proc 0][Train](71000/80000) average pos_loss: 0.25216435895860195\n",
      "[proc 0][Train](71000/80000) average neg_loss: 0.44982576340436936\n",
      "[proc 0][Train](71000/80000) average loss: 0.35099506109952927\n",
      "[proc 0][Train](71000/80000) average regularization: 0.034839595228433606\n",
      "[proc 0][Train] 1000 steps take 37.014 seconds\n",
      "[proc 0]sample: 3.394, forward: 21.242, backward: 8.603, update: 3.766\n",
      "[proc 0][Train](72000/80000) average pos_loss: 0.2525970878601074\n",
      "[proc 0][Train](72000/80000) average neg_loss: 0.4481690644323826\n",
      "[proc 0][Train](72000/80000) average loss: 0.3503830761909485\n",
      "[proc 0][Train](72000/80000) average regularization: 0.03509559263661504\n",
      "[proc 0][Train] 1000 steps take 37.317 seconds\n",
      "[proc 0]sample: 3.420, forward: 21.412, backward: 8.669, update: 3.806\n",
      "[proc 0][Train](73000/80000) average pos_loss: 0.24910050339996814\n",
      "[proc 0][Train](73000/80000) average neg_loss: 0.4464769223332405\n",
      "[proc 0][Train](73000/80000) average loss: 0.3477887128889561\n",
      "[proc 0][Train](73000/80000) average regularization: 0.03549725992232561\n",
      "[proc 0][Train] 1000 steps take 38.877 seconds\n",
      "[proc 0]sample: 4.509, forward: 21.622, backward: 8.868, update: 3.868\n",
      "[proc 0][Train](74000/80000) average pos_loss: 0.24671646058559418\n",
      "[proc 0][Train](74000/80000) average neg_loss: 0.44527553018927574\n",
      "[proc 0][Train](74000/80000) average loss: 0.3459959953725338\n",
      "[proc 0][Train](74000/80000) average regularization: 0.035991920731961724\n",
      "[proc 0][Train] 1000 steps take 37.852 seconds\n",
      "[proc 0]sample: 3.443, forward: 21.774, backward: 8.775, update: 3.852\n",
      "[proc 0][Train](75000/80000) average pos_loss: 0.2479936079531908\n",
      "[proc 0][Train](75000/80000) average neg_loss: 0.44422891446948054\n",
      "[proc 0][Train](75000/80000) average loss: 0.3461112611293793\n",
      "[proc 0][Train](75000/80000) average regularization: 0.036197168178856376\n",
      "[proc 0][Train] 1000 steps take 37.782 seconds\n",
      "[proc 0]sample: 3.449, forward: 21.696, backward: 8.774, update: 3.854\n",
      "[proc 0][Train](76000/80000) average pos_loss: 0.2480419607460499\n",
      "[proc 0][Train](76000/80000) average neg_loss: 0.4415567212998867\n",
      "[proc 0][Train](76000/80000) average loss: 0.3447993412911892\n",
      "[proc 0][Train](76000/80000) average regularization: 0.03648701582476497\n",
      "[proc 0][Train] 1000 steps take 37.813 seconds\n",
      "[proc 0]sample: 3.498, forward: 21.699, backward: 8.742, update: 3.864\n",
      "[proc 0][Train](77000/80000) average pos_loss: 0.24797598929703235\n",
      "[proc 0][Train](77000/80000) average neg_loss: 0.44040784278512\n",
      "[proc 0][Train](77000/80000) average loss: 0.34419191658496856\n",
      "[proc 0][Train](77000/80000) average regularization: 0.03669871078804135\n",
      "[proc 0][Train] 1000 steps take 37.686 seconds\n",
      "[proc 0]sample: 3.409, forward: 21.644, backward: 8.770, update: 3.855\n",
      "[proc 0][Train](78000/80000) average pos_loss: 0.24823109771311283\n",
      "[proc 0][Train](78000/80000) average neg_loss: 0.4384752016663551\n",
      "[proc 0][Train](78000/80000) average loss: 0.34335314959287644\n",
      "[proc 0][Train](78000/80000) average regularization: 0.03695800223201513\n",
      "[proc 0][Train] 1000 steps take 37.376 seconds\n",
      "[proc 0]sample: 3.437, forward: 21.518, backward: 8.610, update: 3.803\n",
      "[proc 0][Train](79000/80000) average pos_loss: 0.24887373988330364\n",
      "[proc 0][Train](79000/80000) average neg_loss: 0.43803795501589776\n",
      "[proc 0][Train](79000/80000) average loss: 0.3434558472037315\n",
      "[proc 0][Train](79000/80000) average regularization: 0.037159236878156664\n",
      "[proc 0][Train] 1000 steps take 37.180 seconds\n",
      "[proc 0]sample: 3.367, forward: 21.390, backward: 8.615, update: 3.800\n",
      "[proc 0][Train](80000/80000) average pos_loss: 0.24910067975521089\n",
      "[proc 0][Train](80000/80000) average neg_loss: 0.4371065189242363\n",
      "[proc 0][Train](80000/80000) average loss: 0.34310359954833985\n",
      "[proc 0][Train](80000/80000) average regularization: 0.037391051463782785\n",
      "[proc 0][Train] 1000 steps take 37.523 seconds\n",
      "[proc 0]sample: 3.433, forward: 21.469, backward: 8.790, update: 3.822\n",
      "proc 0 takes 2999.640 seconds\n",
      "training takes 2999.640217065811 seconds\n",
      "Save model to ckpts/DistMult_Synthea_0\n"
     ]
    }
   ],
   "source": [
    "!dglke_train --model_name DistMult --data_path /Users/pericks4/kgEmbedding/data --dataset Synthea --format raw_udd_hrt --data_files ~/kgEmbedding/data/train.tsv --hidden_dim 216"
   ]
  },
  {
   "cell_type": "code",
   "execution_count": null,
   "metadata": {},
   "outputs": [],
   "source": [
    "import numpy as np"
   ]
  },
  {
   "cell_type": "code",
   "execution_count": 26,
   "metadata": {},
   "outputs": [],
   "source": [
    "entityEmb = np.load(\"ckpts/DistMult_Synthea_0/Synthea_DistMult_entity.npy\")"
   ]
  },
  {
   "cell_type": "code",
   "execution_count": 46,
   "metadata": {},
   "outputs": [
    {
     "output_type": "execute_result",
     "data": {
      "text/plain": [
       "array([[-0.00054407,  0.01988553,  0.01895951, ..., -0.01120941,\n",
       "        -0.0274428 ,  0.01791391],\n",
       "       [-0.04992942,  0.04578114,  0.00835377, ..., -0.01925704,\n",
       "        -0.06534197, -0.04428214],\n",
       "       [ 0.04662586, -0.05664321, -0.09248331, ..., -0.07491291,\n",
       "         0.05608689,  0.0256738 ],\n",
       "       ...,\n",
       "       [ 0.05581236, -0.01671547,  0.01964582, ..., -0.05025264,\n",
       "         0.01698434,  0.02239789],\n",
       "       [ 0.02769739, -0.05354497,  0.0375741 , ..., -0.04679642,\n",
       "         0.00346978,  0.04622282],\n",
       "       [-0.04516835,  0.02760208,  0.02439669, ...,  0.02669085,\n",
       "         0.05012084, -0.03910637]], dtype=float32)"
      ]
     },
     "metadata": {},
     "execution_count": 46
    }
   ],
   "source": [
    "entityEmb"
   ]
  },
  {
   "cell_type": "code",
   "execution_count": 47,
   "metadata": {},
   "outputs": [
    {
     "output_type": "execute_result",
     "data": {
      "text/plain": [
       "(468431, 216)"
      ]
     },
     "metadata": {},
     "execution_count": 47
    }
   ],
   "source": [
    "entityEmb.shape"
   ]
  },
  {
   "cell_type": "code",
   "execution_count": 48,
   "metadata": {},
   "outputs": [],
   "source": [
    "relationEmb = np.load(\"ckpts/DistMult_Synthea_0/Synthea_DistMult_relation.npy\")"
   ]
  },
  {
   "cell_type": "code",
   "execution_count": 49,
   "metadata": {},
   "outputs": [
    {
     "output_type": "execute_result",
     "data": {
      "text/plain": [
       "array([[-0.0568258 , -0.02092931, -0.04164599, ..., -0.04973273,\n",
       "         0.04875431, -0.01233586],\n",
       "       [ 0.04526114,  0.00073258, -0.06260296, ..., -0.06403837,\n",
       "        -0.0416248 , -0.05394542],\n",
       "       [-0.05705387, -0.022148  , -0.04163705, ..., -0.04990689,\n",
       "         0.04869061, -0.01309733],\n",
       "       ...,\n",
       "       [ 0.35084787,  0.3299731 ,  0.28466958, ...,  0.3317943 ,\n",
       "         0.30453217,  0.348263  ],\n",
       "       [-0.05808233,  0.02506154,  0.04322441, ..., -0.01765681,\n",
       "        -0.03564592,  0.03560021],\n",
       "       [ 0.04393549, -0.02285082,  0.07482006, ..., -0.09750175,\n",
       "        -0.02211131,  0.05283095]], dtype=float32)"
      ]
     },
     "metadata": {},
     "execution_count": 49
    }
   ],
   "source": [
    "relationEmb"
   ]
  },
  {
   "cell_type": "code",
   "execution_count": 50,
   "metadata": {},
   "outputs": [
    {
     "output_type": "execute_result",
     "data": {
      "text/plain": [
       "(38, 216)"
      ]
     },
     "metadata": {},
     "execution_count": 50
    }
   ],
   "source": [
    "relationEmb.shape"
   ]
  },
  {
   "cell_type": "code",
   "execution_count": 51,
   "metadata": {},
   "outputs": [],
   "source": [
    "import pandas as pd\n",
    "entIdx = pd.read_csv(\"data/entities.tsv\", sep=\"\\t\", header=None, index=0)\n",
    "entIdx.rename(columns={1:\"entity\", 0:\"idx\"}, inplace=True)\n",
    "entities = pd.merge(entities, entIdx, on=\"entity\")"
   ]
  },
  {
   "cell_type": "code",
   "execution_count": 52,
   "metadata": {},
   "outputs": [
    {
     "output_type": "execute_result",
     "data": {
      "text/plain": [
       "                                      entity      type   idx_x  \\\n",
       "0       f8dc86a0-2d89-60b2-17c9-effc000b358f   Patient       0   \n",
       "1       34ce6eaf-b4c0-87b8-0d5f-d52bd3106fc9     Visit       1   \n",
       "2       a6922a64-3a22-37b2-a8ba-f1f45017573e  Provider       2   \n",
       "3       ac3c275f-5640-025c-5a8a-54c8ed5a8c86     Visit       3   \n",
       "4       5bc2e490-0843-343f-a992-16a52b7ddc8a  Provider       4   \n",
       "...                                      ...       ...     ...   \n",
       "475403  2bd8a500-d99a-35b5-fbb7-19f9d5d1e138  CarePlan  468426   \n",
       "475404  8f157b1f-fe4f-5196-48dd-bc0f5ab5ec60  CarePlan  468427   \n",
       "475405  79f3d370-76a7-b331-2717-a693232aa317  CarePlan  468428   \n",
       "475406  fb15c3d6-1a6d-83ad-ee2b-71f9c6ddb85b  CarePlan  468429   \n",
       "475407  abd0d438-596c-3e11-909f-44ce1733468c  CarePlan  468430   \n",
       "\n",
       "                                                embedding      pca0      pca1  \\\n",
       "0       [-0.0005440739, 0.019885529, 0.01895951, -0.00...  0.860326  1.236253   \n",
       "1       [-0.049929418, 0.04578114, 0.0083537735, -0.02...  0.182867  0.008009   \n",
       "2       [0.04662586, -0.05664321, -0.09248331, -0.0428... -1.038904  1.305906   \n",
       "3       [-0.029613135, 0.019209772, -0.007834088, 0.04...  0.209875 -0.038801   \n",
       "4       [-0.029931884, -0.03688564, 0.036687057, 0.019... -0.772458  1.422599   \n",
       "...                                                   ...       ...       ...   \n",
       "475403  [0.017153049, 0.0152853485, 0.061778165, -0.01... -0.795419  0.037683   \n",
       "475404  [-0.01690485, -0.0016199874, -0.05795732, -0.0...  0.101799 -0.079915   \n",
       "475405  [0.05581236, -0.016715467, 0.019645821, 0.0109...  0.095591 -0.064162   \n",
       "475406  [0.02769739, -0.05354497, 0.0375741, -0.039909...  0.159966 -0.027664   \n",
       "475407  [-0.045168348, 0.027602078, 0.02439669, -0.019...  0.156652  0.003858   \n",
       "\n",
       "            pca2   idx_y  \n",
       "0       0.105194       0  \n",
       "1      -0.026596       1  \n",
       "2       0.381209       2  \n",
       "3      -0.061442       3  \n",
       "4       0.341634       4  \n",
       "...          ...     ...  \n",
       "475403  0.190206  468426  \n",
       "475404 -0.029866  468427  \n",
       "475405 -0.036994  468428  \n",
       "475406  0.044850  468429  \n",
       "475407  0.025260  468430  \n",
       "\n",
       "[475408 rows x 8 columns]"
      ],
      "text/html": "<div>\n<style scoped>\n    .dataframe tbody tr th:only-of-type {\n        vertical-align: middle;\n    }\n\n    .dataframe tbody tr th {\n        vertical-align: top;\n    }\n\n    .dataframe thead th {\n        text-align: right;\n    }\n</style>\n<table border=\"1\" class=\"dataframe\">\n  <thead>\n    <tr style=\"text-align: right;\">\n      <th></th>\n      <th>entity</th>\n      <th>type</th>\n      <th>idx_x</th>\n      <th>embedding</th>\n      <th>pca0</th>\n      <th>pca1</th>\n      <th>pca2</th>\n      <th>idx_y</th>\n    </tr>\n  </thead>\n  <tbody>\n    <tr>\n      <th>0</th>\n      <td>f8dc86a0-2d89-60b2-17c9-effc000b358f</td>\n      <td>Patient</td>\n      <td>0</td>\n      <td>[-0.0005440739, 0.019885529, 0.01895951, -0.00...</td>\n      <td>0.860326</td>\n      <td>1.236253</td>\n      <td>0.105194</td>\n      <td>0</td>\n    </tr>\n    <tr>\n      <th>1</th>\n      <td>34ce6eaf-b4c0-87b8-0d5f-d52bd3106fc9</td>\n      <td>Visit</td>\n      <td>1</td>\n      <td>[-0.049929418, 0.04578114, 0.0083537735, -0.02...</td>\n      <td>0.182867</td>\n      <td>0.008009</td>\n      <td>-0.026596</td>\n      <td>1</td>\n    </tr>\n    <tr>\n      <th>2</th>\n      <td>a6922a64-3a22-37b2-a8ba-f1f45017573e</td>\n      <td>Provider</td>\n      <td>2</td>\n      <td>[0.04662586, -0.05664321, -0.09248331, -0.0428...</td>\n      <td>-1.038904</td>\n      <td>1.305906</td>\n      <td>0.381209</td>\n      <td>2</td>\n    </tr>\n    <tr>\n      <th>3</th>\n      <td>ac3c275f-5640-025c-5a8a-54c8ed5a8c86</td>\n      <td>Visit</td>\n      <td>3</td>\n      <td>[-0.029613135, 0.019209772, -0.007834088, 0.04...</td>\n      <td>0.209875</td>\n      <td>-0.038801</td>\n      <td>-0.061442</td>\n      <td>3</td>\n    </tr>\n    <tr>\n      <th>4</th>\n      <td>5bc2e490-0843-343f-a992-16a52b7ddc8a</td>\n      <td>Provider</td>\n      <td>4</td>\n      <td>[-0.029931884, -0.03688564, 0.036687057, 0.019...</td>\n      <td>-0.772458</td>\n      <td>1.422599</td>\n      <td>0.341634</td>\n      <td>4</td>\n    </tr>\n    <tr>\n      <th>...</th>\n      <td>...</td>\n      <td>...</td>\n      <td>...</td>\n      <td>...</td>\n      <td>...</td>\n      <td>...</td>\n      <td>...</td>\n      <td>...</td>\n    </tr>\n    <tr>\n      <th>475403</th>\n      <td>2bd8a500-d99a-35b5-fbb7-19f9d5d1e138</td>\n      <td>CarePlan</td>\n      <td>468426</td>\n      <td>[0.017153049, 0.0152853485, 0.061778165, -0.01...</td>\n      <td>-0.795419</td>\n      <td>0.037683</td>\n      <td>0.190206</td>\n      <td>468426</td>\n    </tr>\n    <tr>\n      <th>475404</th>\n      <td>8f157b1f-fe4f-5196-48dd-bc0f5ab5ec60</td>\n      <td>CarePlan</td>\n      <td>468427</td>\n      <td>[-0.01690485, -0.0016199874, -0.05795732, -0.0...</td>\n      <td>0.101799</td>\n      <td>-0.079915</td>\n      <td>-0.029866</td>\n      <td>468427</td>\n    </tr>\n    <tr>\n      <th>475405</th>\n      <td>79f3d370-76a7-b331-2717-a693232aa317</td>\n      <td>CarePlan</td>\n      <td>468428</td>\n      <td>[0.05581236, -0.016715467, 0.019645821, 0.0109...</td>\n      <td>0.095591</td>\n      <td>-0.064162</td>\n      <td>-0.036994</td>\n      <td>468428</td>\n    </tr>\n    <tr>\n      <th>475406</th>\n      <td>fb15c3d6-1a6d-83ad-ee2b-71f9c6ddb85b</td>\n      <td>CarePlan</td>\n      <td>468429</td>\n      <td>[0.02769739, -0.05354497, 0.0375741, -0.039909...</td>\n      <td>0.159966</td>\n      <td>-0.027664</td>\n      <td>0.044850</td>\n      <td>468429</td>\n    </tr>\n    <tr>\n      <th>475407</th>\n      <td>abd0d438-596c-3e11-909f-44ce1733468c</td>\n      <td>CarePlan</td>\n      <td>468430</td>\n      <td>[-0.045168348, 0.027602078, 0.02439669, -0.019...</td>\n      <td>0.156652</td>\n      <td>0.003858</td>\n      <td>0.025260</td>\n      <td>468430</td>\n    </tr>\n  </tbody>\n</table>\n<p>475408 rows × 8 columns</p>\n</div>"
     },
     "metadata": {},
     "execution_count": 52
    }
   ],
   "source": [
    "entities"
   ]
  },
  {
   "cell_type": "code",
   "execution_count": 53,
   "metadata": {},
   "outputs": [
    {
     "output_type": "error",
     "ename": "KeyError",
     "evalue": "'idx'",
     "traceback": [
      "\u001b[0;31m---------------------------------------------------------------------------\u001b[0m",
      "\u001b[0;31mKeyError\u001b[0m                                  Traceback (most recent call last)",
      "\u001b[0;32m~/opt/anaconda3/envs/tigergraph/lib/python3.7/site-packages/pandas/core/indexes/base.py\u001b[0m in \u001b[0;36mget_loc\u001b[0;34m(self, key, method, tolerance)\u001b[0m\n\u001b[1;32m   2645\u001b[0m             \u001b[0;32mtry\u001b[0m\u001b[0;34m:\u001b[0m\u001b[0;34m\u001b[0m\u001b[0;34m\u001b[0m\u001b[0m\n\u001b[0;32m-> 2646\u001b[0;31m                 \u001b[0;32mreturn\u001b[0m \u001b[0mself\u001b[0m\u001b[0;34m.\u001b[0m\u001b[0m_engine\u001b[0m\u001b[0;34m.\u001b[0m\u001b[0mget_loc\u001b[0m\u001b[0;34m(\u001b[0m\u001b[0mkey\u001b[0m\u001b[0;34m)\u001b[0m\u001b[0;34m\u001b[0m\u001b[0;34m\u001b[0m\u001b[0m\n\u001b[0m\u001b[1;32m   2647\u001b[0m             \u001b[0;32mexcept\u001b[0m \u001b[0mKeyError\u001b[0m\u001b[0;34m:\u001b[0m\u001b[0;34m\u001b[0m\u001b[0;34m\u001b[0m\u001b[0m\n",
      "\u001b[0;32mpandas/_libs/index.pyx\u001b[0m in \u001b[0;36mpandas._libs.index.IndexEngine.get_loc\u001b[0;34m()\u001b[0m\n",
      "\u001b[0;32mpandas/_libs/index.pyx\u001b[0m in \u001b[0;36mpandas._libs.index.IndexEngine.get_loc\u001b[0;34m()\u001b[0m\n",
      "\u001b[0;32mpandas/_libs/hashtable_class_helper.pxi\u001b[0m in \u001b[0;36mpandas._libs.hashtable.PyObjectHashTable.get_item\u001b[0;34m()\u001b[0m\n",
      "\u001b[0;32mpandas/_libs/hashtable_class_helper.pxi\u001b[0m in \u001b[0;36mpandas._libs.hashtable.PyObjectHashTable.get_item\u001b[0;34m()\u001b[0m\n",
      "\u001b[0;31mKeyError\u001b[0m: 'idx'",
      "\nDuring handling of the above exception, another exception occurred:\n",
      "\u001b[0;31mKeyError\u001b[0m                                  Traceback (most recent call last)",
      "\u001b[0;32m<ipython-input-53-6beb9be87675>\u001b[0m in \u001b[0;36m<module>\u001b[0;34m\u001b[0m\n\u001b[0;32m----> 1\u001b[0;31m \u001b[0mpatIdxs\u001b[0m \u001b[0;34m=\u001b[0m \u001b[0mentities\u001b[0m\u001b[0;34m[\u001b[0m\u001b[0mentities\u001b[0m\u001b[0;34m[\u001b[0m\u001b[0;34m\"type\"\u001b[0m\u001b[0;34m]\u001b[0m \u001b[0;34m==\u001b[0m \u001b[0;34m\"Patient\"\u001b[0m\u001b[0;34m]\u001b[0m\u001b[0;34m[\u001b[0m\u001b[0;34m\"idx\"\u001b[0m\u001b[0;34m]\u001b[0m\u001b[0;34m\u001b[0m\u001b[0;34m\u001b[0m\u001b[0m\n\u001b[0m",
      "\u001b[0;32m~/opt/anaconda3/envs/tigergraph/lib/python3.7/site-packages/pandas/core/frame.py\u001b[0m in \u001b[0;36m__getitem__\u001b[0;34m(self, key)\u001b[0m\n\u001b[1;32m   2798\u001b[0m             \u001b[0;32mif\u001b[0m \u001b[0mself\u001b[0m\u001b[0;34m.\u001b[0m\u001b[0mcolumns\u001b[0m\u001b[0;34m.\u001b[0m\u001b[0mnlevels\u001b[0m \u001b[0;34m>\u001b[0m \u001b[0;36m1\u001b[0m\u001b[0;34m:\u001b[0m\u001b[0;34m\u001b[0m\u001b[0;34m\u001b[0m\u001b[0m\n\u001b[1;32m   2799\u001b[0m                 \u001b[0;32mreturn\u001b[0m \u001b[0mself\u001b[0m\u001b[0;34m.\u001b[0m\u001b[0m_getitem_multilevel\u001b[0m\u001b[0;34m(\u001b[0m\u001b[0mkey\u001b[0m\u001b[0;34m)\u001b[0m\u001b[0;34m\u001b[0m\u001b[0;34m\u001b[0m\u001b[0m\n\u001b[0;32m-> 2800\u001b[0;31m             \u001b[0mindexer\u001b[0m \u001b[0;34m=\u001b[0m \u001b[0mself\u001b[0m\u001b[0;34m.\u001b[0m\u001b[0mcolumns\u001b[0m\u001b[0;34m.\u001b[0m\u001b[0mget_loc\u001b[0m\u001b[0;34m(\u001b[0m\u001b[0mkey\u001b[0m\u001b[0;34m)\u001b[0m\u001b[0;34m\u001b[0m\u001b[0;34m\u001b[0m\u001b[0m\n\u001b[0m\u001b[1;32m   2801\u001b[0m             \u001b[0;32mif\u001b[0m \u001b[0mis_integer\u001b[0m\u001b[0;34m(\u001b[0m\u001b[0mindexer\u001b[0m\u001b[0;34m)\u001b[0m\u001b[0;34m:\u001b[0m\u001b[0;34m\u001b[0m\u001b[0;34m\u001b[0m\u001b[0m\n\u001b[1;32m   2802\u001b[0m                 \u001b[0mindexer\u001b[0m \u001b[0;34m=\u001b[0m \u001b[0;34m[\u001b[0m\u001b[0mindexer\u001b[0m\u001b[0;34m]\u001b[0m\u001b[0;34m\u001b[0m\u001b[0;34m\u001b[0m\u001b[0m\n",
      "\u001b[0;32m~/opt/anaconda3/envs/tigergraph/lib/python3.7/site-packages/pandas/core/indexes/base.py\u001b[0m in \u001b[0;36mget_loc\u001b[0;34m(self, key, method, tolerance)\u001b[0m\n\u001b[1;32m   2646\u001b[0m                 \u001b[0;32mreturn\u001b[0m \u001b[0mself\u001b[0m\u001b[0;34m.\u001b[0m\u001b[0m_engine\u001b[0m\u001b[0;34m.\u001b[0m\u001b[0mget_loc\u001b[0m\u001b[0;34m(\u001b[0m\u001b[0mkey\u001b[0m\u001b[0;34m)\u001b[0m\u001b[0;34m\u001b[0m\u001b[0;34m\u001b[0m\u001b[0m\n\u001b[1;32m   2647\u001b[0m             \u001b[0;32mexcept\u001b[0m \u001b[0mKeyError\u001b[0m\u001b[0;34m:\u001b[0m\u001b[0;34m\u001b[0m\u001b[0;34m\u001b[0m\u001b[0m\n\u001b[0;32m-> 2648\u001b[0;31m                 \u001b[0;32mreturn\u001b[0m \u001b[0mself\u001b[0m\u001b[0;34m.\u001b[0m\u001b[0m_engine\u001b[0m\u001b[0;34m.\u001b[0m\u001b[0mget_loc\u001b[0m\u001b[0;34m(\u001b[0m\u001b[0mself\u001b[0m\u001b[0;34m.\u001b[0m\u001b[0m_maybe_cast_indexer\u001b[0m\u001b[0;34m(\u001b[0m\u001b[0mkey\u001b[0m\u001b[0;34m)\u001b[0m\u001b[0;34m)\u001b[0m\u001b[0;34m\u001b[0m\u001b[0;34m\u001b[0m\u001b[0m\n\u001b[0m\u001b[1;32m   2649\u001b[0m         \u001b[0mindexer\u001b[0m \u001b[0;34m=\u001b[0m \u001b[0mself\u001b[0m\u001b[0;34m.\u001b[0m\u001b[0mget_indexer\u001b[0m\u001b[0;34m(\u001b[0m\u001b[0;34m[\u001b[0m\u001b[0mkey\u001b[0m\u001b[0;34m]\u001b[0m\u001b[0;34m,\u001b[0m \u001b[0mmethod\u001b[0m\u001b[0;34m=\u001b[0m\u001b[0mmethod\u001b[0m\u001b[0;34m,\u001b[0m \u001b[0mtolerance\u001b[0m\u001b[0;34m=\u001b[0m\u001b[0mtolerance\u001b[0m\u001b[0;34m)\u001b[0m\u001b[0;34m\u001b[0m\u001b[0;34m\u001b[0m\u001b[0m\n\u001b[1;32m   2650\u001b[0m         \u001b[0;32mif\u001b[0m \u001b[0mindexer\u001b[0m\u001b[0;34m.\u001b[0m\u001b[0mndim\u001b[0m \u001b[0;34m>\u001b[0m \u001b[0;36m1\u001b[0m \u001b[0;32mor\u001b[0m \u001b[0mindexer\u001b[0m\u001b[0;34m.\u001b[0m\u001b[0msize\u001b[0m \u001b[0;34m>\u001b[0m \u001b[0;36m1\u001b[0m\u001b[0;34m:\u001b[0m\u001b[0;34m\u001b[0m\u001b[0;34m\u001b[0m\u001b[0m\n",
      "\u001b[0;32mpandas/_libs/index.pyx\u001b[0m in \u001b[0;36mpandas._libs.index.IndexEngine.get_loc\u001b[0;34m()\u001b[0m\n",
      "\u001b[0;32mpandas/_libs/index.pyx\u001b[0m in \u001b[0;36mpandas._libs.index.IndexEngine.get_loc\u001b[0;34m()\u001b[0m\n",
      "\u001b[0;32mpandas/_libs/hashtable_class_helper.pxi\u001b[0m in \u001b[0;36mpandas._libs.hashtable.PyObjectHashTable.get_item\u001b[0;34m()\u001b[0m\n",
      "\u001b[0;32mpandas/_libs/hashtable_class_helper.pxi\u001b[0m in \u001b[0;36mpandas._libs.hashtable.PyObjectHashTable.get_item\u001b[0;34m()\u001b[0m\n",
      "\u001b[0;31mKeyError\u001b[0m: 'idx'"
     ]
    }
   ],
   "source": [
    "patIdxs = entities[entities[\"type\"] == \"Patient\"][\"idx\"]"
   ]
  },
  {
   "cell_type": "code",
   "execution_count": null,
   "metadata": {},
   "outputs": [],
   "source": [
    "pats = entityEmb[patIdxs]"
   ]
  },
  {
   "cell_type": "code",
   "execution_count": null,
   "metadata": {},
   "outputs": [],
   "source": [
    "from sklearn.metrics.pairwise import cosine_similarity\n",
    "\n",
    "sims = cosine_similarity(pats)"
   ]
  },
  {
   "cell_type": "code",
   "execution_count": null,
   "metadata": {},
   "outputs": [],
   "source": [
    "sims"
   ]
  },
  {
   "cell_type": "code",
   "execution_count": null,
   "metadata": {},
   "outputs": [],
   "source": [
    "sims.shape"
   ]
  },
  {
   "cell_type": "code",
   "execution_count": null,
   "metadata": {},
   "outputs": [],
   "source": [
    "entities = entities.sort_values(\"idx\").reset_index().drop(\"index\", axis=1)"
   ]
  },
  {
   "cell_type": "code",
   "execution_count": null,
   "metadata": {},
   "outputs": [],
   "source": [
    "entities[\"embedding\"] = [entityEmb[i] for i in entities[\"idx\"]]"
   ]
  },
  {
   "cell_type": "code",
   "execution_count": null,
   "metadata": {},
   "outputs": [],
   "source": [
    "entities"
   ]
  },
  {
   "cell_type": "code",
   "execution_count": null,
   "metadata": {},
   "outputs": [],
   "source": [
    "from sklearn.decomposition import PCA\n",
    "pca = PCA(n_components=3)\n",
    "pcaRes = pca.fit_transform(np.stack(entities[\"embedding\"].values))"
   ]
  },
  {
   "cell_type": "code",
   "execution_count": null,
   "metadata": {},
   "outputs": [],
   "source": [
    "entities[\"pca0\"] = [pcaRes[i][0] for i in entities[\"idx\"]]\n",
    "entities[\"pca1\"] = [pcaRes[i][1] for i in entities[\"idx\"]]\n",
    "entities[\"pca2\"] = [pcaRes[i][2] for i in entities[\"idx\"]]"
   ]
  },
  {
   "cell_type": "code",
   "execution_count": null,
   "metadata": {},
   "outputs": [],
   "source": [
    "entities.head()"
   ]
  },
  {
   "cell_type": "code",
   "execution_count": null,
   "metadata": {},
   "outputs": [],
   "source": [
    "entities.to_csv(\"entitiesWithEmbeddingsDistMult.csv\", sep=\"\\t\")"
   ]
  },
  {
   "cell_type": "code",
   "execution_count": null,
   "metadata": {},
   "outputs": [],
   "source": []
  }
 ]
}